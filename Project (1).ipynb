{
 "cells": [
  {
   "cell_type": "code",
   "execution_count": null,
   "id": "83460083-e57b-4d06-8408-c3035f88ad0b",
   "metadata": {},
   "outputs": [],
   "source": [
    "import pandas as pd\n",
    "file_path = './loan_data_set.csv'\n",
    "data = pd.read_csv(file_path)\n",
    "data['Gender'].fillna(data['Gender'].mode()[0], inplace=True)\n",
    "data['Married'].fillna(data['Married'].mode()[0], inplace=True)\n",
    "data['Dependents'].fillna(data['Dependents'].mode()[0], inplace=True)\n",
    "data['Self_Employed'].fillna(data['Self_Employed'].mode()[0], inplace=True)\n",
    "data['LoanAmount'].fillna(data['LoanAmount'].median(), inplace=True)\n",
    "data['Loan_Amount_Term'].fillna(data['Loan_Amount_Term'].mode()[0], inplace=True)\n",
    "data['Credit_History'].fillna(data['Credit_History'].mode()[0], inplace=True)\n",
    "data = pd.get_dummies(data, columns=['Gender', 'Married', 'Dependents', 'Education', 'Self_Employed', 'Property_Area'], drop_first=True)\n",
    "data['Loan_Status'] = data['Loan_Status'].map({'Y': 1, 'N': 0})\n",
    "data.head()\n"
   ]
  },
  {
   "cell_type": "code",
   "execution_count": null,
   "id": "83c06e85-b15e-4cbf-b797-5ca71b303d40",
   "metadata": {},
   "outputs": [],
   "source": [
    "   Loan_ID  ApplicantIncome  CoapplicantIncome  LoanAmount  Loan_Amount_Term  \\\n",
    "0  LP001002            5849                0.0       146.0             360.0   \n",
    "1  LP001003            4583             1508.0       128.0             360.0   \n",
    "2  LP001005            3000                0.0        66.0             360.0   \n",
    "3  LP001006            2583                0.0       120.0             360.0   \n",
    "4  LP001008            6000                0.0       141.0             360.0   \n",
    "\n",
    "   Credit_History  Gender_Male  Married_Yes  Dependents_1  Dependents_2  \\\n",
    "0             1.0            1            1             0             0   \n",
    "1             1.0            1            1             1             0   \n",
    "2             1.0            1            0             0             0   \n",
    "3             1.0            1            1             0             0   \n",
    "4             1.0            1            1             1             0   \n",
    "\n",
    "   Dependents_3+  Education_Not Graduate  Self_Employed_Yes  \\\n",
    "0              0                       0                  0   \n",
    "1              0                       0                  0   \n",
    "2              0                       0                  0   \n",
    "3              0                       0                  0   \n",
    "4              0                       0                  0   \n",
    "\n",
    "   Property_Area_Semiurban  Property_Area_Urban  Loan_Status  \n",
    "0                        0                    1            1  \n",
    "1                        0                    0            0  \n",
    "2                        1                    0            1  \n",
    "3                        1                    0            1  \n",
    "4                        0                    1            1  \n"
   ]
  },
  {
   "cell_type": "code",
   "execution_count": null,
   "id": "283b864c-2872-410e-a7ef-5eb90ec49ca3",
   "metadata": {},
   "outputs": [],
   "source": [
    "## Next, lets split the dataset into train and test sets to train a model."
   ]
  },
  {
   "cell_type": "code",
   "execution_count": null,
   "id": "cf996729-05c4-4588-9536-46021ad487df",
   "metadata": {},
   "outputs": [],
   "source": [
    "from sklearn.model_selection import train_test_split\n",
    "\n",
    "# X contains the features used for training the model, and y contains the target variable\n",
    "X = data.drop(columns=['Loan_ID', 'Loan_Status'])\n",
    "y = data['Loan_Status']\n",
    "\n",
    "# Split the data into training and testing sets\n",
    "X_train, X_test, y_train, y_test = train_test_split(X, y, test_size=0.2, random_state=42)"
   ]
  },
  {
   "cell_type": "code",
   "execution_count": null,
   "id": "f97e9885-a7bd-4014-8a9a-8406cde08831",
   "metadata": {},
   "outputs": [],
   "source": [
    "## Now that we have a train and test set, we can use the train set to train a model."
   ]
  },
  {
   "cell_type": "code",
   "execution_count": null,
   "id": "3230d821-583a-446c-a412-41df9777b33e",
   "metadata": {},
   "outputs": [],
   "source": [
    "from sklearn.linear_model import LogisticRegression\n",
    "from sklearn.metrics import accuracy_score, confusion_matrix, classification_report\n",
    "\n",
    "model = LogisticRegression(max_iter=200)\n",
    "model.fit(X_train, y_train)\n",
    "\n",
    "# Predict on the test set\n",
    "y_pred = model.predict(X_test)\n",
    "\n",
    "# Evaluate the model\n",
    "accuracy = accuracy_score(y_test, y_pred)\n",
    "conf_matrix = confusion_matrix(y_test, y_pred)\n",
    "class_report = classification_report(y_test, y_pred)\n",
    "\n",
    "accuracy, conf_matrix, class_report"
   ]
  },
  {
   "cell_type": "code",
   "execution_count": null,
   "id": "d1aee6bd-8618-4764-8272-c0582ac93d18",
   "metadata": {},
   "outputs": [],
   "source": [
    "              precision    recall  f1-score   support\n",
    "\n",
    "           0       0.95      0.42      0.58        43\n",
    "           1       0.76      0.99      0.86        80\n",
    "\n",
    "    accuracy                           0.79       123\n",
    "   macro avg       0.85      0.70      0.72       123\n",
    "weighted avg       0.83      0.79      0.76       123\n"
   ]
  },
  {
   "cell_type": "code",
   "execution_count": null,
   "id": "897184f5-5570-470b-97ad-de3a3708d2d7",
   "metadata": {},
   "outputs": [],
   "source": [
    "## Intepretation : The model performs well in identifying loan approvals (class 1) with high recall (0.99), meaning it correctly identifies most approved loans. However, it has a lower precision (0.76) for class 1, indicating some false positives.\n",
    "## For non-approved loans (class 0), the model has high precision (0.95) but low recall (0.42), meaning it misses a significant number of actual non-approved loans.\n",
    "## The overall accuracy of 78.86% suggests that the model is reasonably effective, but the imbalance between precision and recall for class 0 indicates areas for potential improvement, possibly through techniques such as balancing the dataset, tuning the model, or exploring different algorithms."
   ]
  }
 ],
 "metadata": {
  "kernelspec": {
   "display_name": "Python 3 (ipykernel)",
   "language": "python",
   "name": "python3"
  },
  "language_info": {
   "codemirror_mode": {
    "name": "ipython",
    "version": 3
   },
   "file_extension": ".py",
   "mimetype": "text/x-python",
   "name": "python",
   "nbconvert_exporter": "python",
   "pygments_lexer": "ipython3",
   "version": "3.11.7"
  }
 },
 "nbformat": 4,
 "nbformat_minor": 5
}
