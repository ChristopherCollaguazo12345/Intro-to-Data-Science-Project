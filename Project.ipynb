{
  "nbformat": 4,
  "nbformat_minor": 0,
  "metadata": {
    "colab": {
      "provenance": [],
      "authorship_tag": "ABX9TyOuHzD9imTUeOv4gP69UsWE",
      "include_colab_link": true
    },
    "kernelspec": {
      "name": "python3",
      "display_name": "Python 3"
    },
    "language_info": {
      "name": "python"
    }
  },
  "cells": [
    {
      "cell_type": "markdown",
      "metadata": {
        "id": "view-in-github",
        "colab_type": "text"
      },
      "source": [
        "<a href=\"https://colab.research.google.com/github/ChristopherCollaguazo12345/Intro-to-Data-Science-Project/blob/main/Project.ipynb\" target=\"_parent\"><img src=\"https://colab.research.google.com/assets/colab-badge.svg\" alt=\"Open In Colab\"/></a>"
      ]
    },
    {
      "cell_type": "markdown",
      "source": [
        "I have a certain amount of people who are looking to see whether or not their loan application will be approved based on applicant and loan characteristics. I have been provided with information such as a mix of categorical and numerical features that are relevant to loan approval decisions. This data can be used to train a classification model to predict the loan approval status. Therefore, with addditional information that I am going to include such as Gender, Married, Dependents, Self_Employed,LoanAmount, Loan_Amount_Term, and credit history, I will see whether my clients loan application will approved or not.\n"
      ],
      "metadata": {
        "id": "qGZ0VaZQbJ8H"
      }
    },
    {
      "cell_type": "code",
      "source": [
        "\n",
        "import pandas as pd\n",
        "\n",
        "# Load the dataset\n",
        "file_path = './loan_data_set.csv'\n",
        "data = pd.read_csv(file_path)\n",
        "\n",
        "# Fill missing values\n",
        "data['Gender'].fillna(data['Gender'].mode()[0], inplace=True)\n",
        "data['Married'].fillna(data['Married'].mode()[0], inplace=True)\n",
        "data['Dependents'].fillna(data['Dependents'].mode()[0], inplace=True)\n",
        "data['Self_Employed'].fillna(data['Self_Employed'].mode()[0], inplace=True)\n",
        "data['LoanAmount'].fillna(data['LoanAmount'].median(), inplace=True)\n",
        "data['Loan_Amount_Term'].fillna(data['Loan_Amount_Term'].mode()[0], inplace=True)\n",
        "data['Credit_History'].fillna(data['Credit_History'].mode()[0], inplace=True)\n",
        "\n",
        "# Encode categorical variables\n",
        "data = pd.get_dummies(data, columns=['Gender', 'Married', 'Dependents', 'Education', 'Self_Employed', 'Property_Area'], drop_first=True)\n",
        "\n",
        "# Map target variable 'Loan_Status' to binary values\n",
        "data['Loan_Status'] = data['Loan_Status'].map({'Y': 1, 'N': 0})\n",
        "\n",
        "data.head()"
      ],
      "metadata": {
        "id": "FHvE6Z4cZOGu"
      },
      "execution_count": null,
      "outputs": []
    },
    {
      "cell_type": "code",
      "source": [
        "   Loan_ID  ApplicantIncome  CoapplicantIncome  LoanAmount  Loan_Amount_Term  \\\n",
        "0  LP001002            5849                0.0       146.0             360.0\n",
        "1  LP001003            4583             1508.0       128.0             360.0\n",
        "2  LP001005            3000                0.0        66.0             360.0\n",
        "3  LP001006            2583                0.0       120.0             360.0\n",
        "4  LP001008            6000                0.0       141.0             360.0\n",
        "\n",
        "   Credit_History  Gender_Male  Married_Yes  Dependents_1  Dependents_2  \\\n",
        "0             1.0            1            1             0             0\n",
        "1             1.0            1            1             1             0\n",
        "2             1.0            1            0             0             0\n",
        "3             1.0            1            1             0             0\n",
        "4             1.0            1            1             1             0\n",
        "\n",
        "   Dependents_3+  Education_Not Graduate  Self_Employed_Yes  \\\n",
        "0              0                       0                  0\n",
        "1              0                       0                  0\n",
        "2              0                       0                  0\n",
        "3              0                       0                  0\n",
        "4              0                       0                  0\n",
        "\n",
        "   Property_Area_Semiurban  Property_Area_Urban  Loan_Status\n",
        "0                        0                    1            1\n",
        "1                        0                    0            0\n",
        "2                        1                    0            1\n",
        "3                        1                    0            1\n",
        "4                        0                    1            1\n"
      ],
      "metadata": {
        "id": "G3ybiVOqZRBE"
      },
      "execution_count": null,
      "outputs": []
    },
    {
      "cell_type": "markdown",
      "source": [
        "Next, lets split the dataset into train and test sets to train a model.\n",
        "\n"
      ],
      "metadata": {
        "id": "RzQRHTb8ai6R"
      }
    },
    {
      "cell_type": "code",
      "source": [
        "from sklearn.model_selection import train_test_split\n",
        "\n",
        "# X contains the features used for training the model, and y contains the target variable\n",
        "X = data.drop(columns=['Loan_ID', 'Loan_Status'])\n",
        "y = data['Loan_Status']\n",
        "\n",
        "# Split the data into training and testing sets\n",
        "X_train, X_test, y_train, y_test = train_test_split(X, y, test_size=0.2, random_state=42)"
      ],
      "metadata": {
        "id": "Q3d7tULfakFQ"
      },
      "execution_count": null,
      "outputs": []
    },
    {
      "cell_type": "markdown",
      "source": [
        "Now that we have a train and test set, we can use the train set to train a model."
      ],
      "metadata": {
        "id": "5xEOaUCcaoSU"
      }
    },
    {
      "cell_type": "code",
      "source": [
        "from sklearn.linear_model import LogisticRegression\n",
        "from sklearn.metrics import accuracy_score, confusion_matrix, classification_report\n",
        "\n",
        "model = LogisticRegression(max_iter=200)\n",
        "model.fit(X_train, y_train)\n",
        "\n",
        "# Predict on the test set\n",
        "y_pred = model.predict(X_test)\n",
        "\n",
        "# Evaluate the model\n",
        "accuracy = accuracy_score(y_test, y_pred)\n",
        "conf_matrix = confusion_matrix(y_test, y_pred)\n",
        "class_report = classification_report(y_test, y_pred)\n",
        "\n",
        "accuracy, conf_matrix, class_report"
      ],
      "metadata": {
        "id": "4FP1ohy-awoj"
      },
      "execution_count": null,
      "outputs": []
    },
    {
      "cell_type": "code",
      "source": [
        "              precision    recall  f1-score   support\n",
        "\n",
        "           0       0.95      0.42      0.58        43\n",
        "           1       0.76      0.99      0.86        80\n",
        "\n",
        "    accuracy                           0.79       123\n",
        "   macro avg       0.85      0.70      0.72       123\n",
        "weighted avg       0.83      0.79      0.76       123\n"
      ],
      "metadata": {
        "id": "Y9klMchBazuF"
      },
      "execution_count": null,
      "outputs": []
    },
    {
      "cell_type": "markdown",
      "source": [
        "- **Precision**: 95% for class 0 (not approved), 76% for class 1 (approved)\n",
        "- **Recall**: 42% for class 0, 99% for class 1\n",
        "- **F1-score**: 58% for class 0, 86% for class 1\n",
        "\n",
        "The model performs well in predicting loan approvals (class 1) but struggles with loan rejections (class 0). This imbalance suggests a need for further improvement.\n",
        "\n"
      ],
      "metadata": {
        "id": "jqQcMvpMbGe7"
      }
    },
    {
      "cell_type": "markdown",
      "source": [
        "Intepretation : The model performs well in identifying loan approvals (class 1) with high recall (0.99), meaning it correctly identifies most approved loans. However, it has a lower precision (0.76) for class 1, indicating some false positives.\n",
        "For non-approved loans (class 0), the model has high precision (0.95) but low recall (0.42), meaning it misses a significant number of actual non-approved loans.\n",
        "The overall accuracy of 78.86% suggests that the model is reasonably effective, but the imbalance between precision and recall for class 0 indicates areas for potential improvement, possibly through techniques such as balancing the dataset, tuning the model, or exploring different algorithms."
      ],
      "metadata": {
        "id": "-uQSQZCOepS-"
      }
    }
  ]
}